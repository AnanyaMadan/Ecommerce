{
  "nbformat": 4,
  "nbformat_minor": 0,
  "metadata": {
    "colab": {
      "provenance": []
    },
    "kernelspec": {
      "name": "python3",
      "display_name": "Python 3"
    },
    "language_info": {
      "name": "python"
    }
  },
  "cells": [
    {
      "cell_type": "code",
      "execution_count": 1,
      "metadata": {
        "colab": {
          "base_uri": "https://localhost:8080/"
        },
        "id": "QpWQPbiIhWk5",
        "outputId": "4c0d9fd1-d591-42b5-e798-a9dc54f38e73"
      },
      "outputs": [
        {
          "output_type": "stream",
          "name": "stdout",
          "text": [
            "Mean Squared Error: 4.514379789643681e-32\n",
            "{'reduce_carbon_footprint': 0.05, 'increase_sustainable_items': 5, 'items_to_add': ['Organic Cotton T-Shirt', 'Recycled Polyester Jacket', 'Eco-Friendly Sneakers', 'Bamboo Sunglasses', 'Hemp Backpack']}\n"
          ]
        },
        {
          "output_type": "stream",
          "name": "stderr",
          "text": [
            "/usr/local/lib/python3.10/dist-packages/sklearn/base.py:439: UserWarning: X does not have valid feature names, but StandardScaler was fitted with feature names\n",
            "  warnings.warn(\n"
          ]
        }
      ],
      "source": [
        "import pandas as pd\n",
        "import numpy as np\n",
        "from sklearn.model_selection import train_test_split\n",
        "from sklearn.preprocessing import StandardScaler\n",
        "from sklearn.linear_model import LinearRegression\n",
        "from sklearn.metrics import mean_squared_error\n",
        "\n",
        "# Mock dataset creation\n",
        "data = {\n",
        "    'user_id': range(1, 101),\n",
        "    'age': np.random.randint(18, 65, 100),\n",
        "    'income': np.random.randint(30000, 120000, 100),\n",
        "    'carbon_footprint': np.random.uniform(1.0, 10.0, 100),\n",
        "    'sustainable_items': np.random.randint(0, 50, 100),\n",
        "    'sustainable_practices_score': np.random.uniform(0.0, 1.0, 100)\n",
        "}\n",
        "\n",
        "df = pd.DataFrame(data)\n",
        "\n",
        "# Split the data into training and testing sets\n",
        "X = df[['age', 'income', 'carbon_footprint', 'sustainable_items', 'sustainable_practices_score']]\n",
        "y = df['sustainable_practices_score']\n",
        "\n",
        "X_train, X_test, y_train, y_test = train_test_split(X, y, test_size=0.2, random_state=42)\n",
        "\n",
        "# Standardize the features\n",
        "scaler = StandardScaler()\n",
        "X_train_scaled = scaler.fit_transform(X_train)\n",
        "X_test_scaled = scaler.transform(X_test)\n",
        "\n",
        "# Train the model\n",
        "model = LinearRegression()\n",
        "model.fit(X_train_scaled, y_train)\n",
        "\n",
        "# Predict on the test set\n",
        "y_pred = model.predict(X_test_scaled)\n",
        "\n",
        "# Evaluate the model\n",
        "mse = mean_squared_error(y_test, y_pred)\n",
        "print(f'Mean Squared Error: {mse}')\n",
        "\n",
        "# Mock list of sustainable fashion items from Myntra with their carbon footprint reduction potential\n",
        "sustainable_items_list = [\n",
        "    {'item': 'Organic Cotton T-Shirt', 'carbon_reduction': 0.04},\n",
        "    {'item': 'Recycled Polyester Jacket', 'carbon_reduction': 0.06},\n",
        "    {'item': 'Eco-Friendly Sneakers', 'carbon_reduction': 0.05},\n",
        "    {'item': 'Bamboo Sunglasses', 'carbon_reduction': 0.03},\n",
        "    {'item': 'Hemp Backpack', 'carbon_reduction': 0.07},\n",
        "    {'item': 'Reusable Tote Bag', 'carbon_reduction': 0.02},\n",
        "    {'item': 'Sustainable Denim Jeans', 'carbon_reduction': 0.08}\n",
        "]\n",
        "\n",
        "# Define a function to set personalized sustainability goals\n",
        "def set_sustainability_goals(user_data, model, scaler, items_list):\n",
        "    user_data_scaled = scaler.transform([user_data])\n",
        "    predicted_score = model.predict(user_data_scaled)[0]\n",
        "\n",
        "    # Calculate the goals\n",
        "    reduce_carbon_footprint_goal = round(predicted_score * 0.1, 2)\n",
        "    increase_sustainable_items_goal = int(predicted_score * 10)\n",
        "\n",
        "    # Select items to add\n",
        "    items_to_add = items_list[:increase_sustainable_items_goal]\n",
        "\n",
        "    goals = {\n",
        "        'reduce_carbon_footprint': reduce_carbon_footprint_goal,\n",
        "        'increase_sustainable_items': increase_sustainable_items_goal,\n",
        "        'items_to_add': [item['item'] for item in items_to_add]\n",
        "    }\n",
        "\n",
        "    return goals\n",
        "\n",
        "# Example usage\n",
        "user_data = [25, 50000, 5.0, 10, 0.5]  # [age, income, carbon_footprint, sustainable_items, sustainable_practices_score]\n",
        "goals = set_sustainability_goals(user_data, model, scaler, sustainable_items_list)\n",
        "print(goals)"
      ]
    }
  ]
}